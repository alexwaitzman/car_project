{
 "cells": [
  {
   "cell_type": "code",
   "execution_count": 3,
   "metadata": {},
   "outputs": [],
   "source": [
    "import pandas as pd\n",
    "import streamlit as st\n",
    "import plotly.express as px\n",
    " "
   ]
  },
  {
   "cell_type": "markdown",
   "metadata": {},
   "source": [
    "Goal of the project: To investigate the car sales advertisment and to create the webapp for this purpose.\n",
    "The app will contain 2 charts:\n",
    "1) Dependancy of car prises from conditions\n",
    "2) Average car price by model\n",
    "\n",
    "Additionaly app will contain a slider to choose the price range of cars and a checkbox to pick only the cars that are less then 10 years old.\n",
    "\n",
    "Hypotheses:\n",
    "1) The prices of the cars are strongly dependent on the car condition\n",
    "2) There majority of cars are in the middle price range \n",
    "\n",
    "Input data: csv file 'vehicles_us.csv' which contains: price, model_year, model\tcondition, number of cylinders,\ttype of fuel, odometer,\ttype of transmission, type of car, paint_color,\t4wd or not,\tdate_posted, days_listed\n"
   ]
  },
  {
   "cell_type": "code",
   "execution_count": 4,
   "metadata": {},
   "outputs": [
    {
     "name": "stdout",
     "output_type": "stream",
     "text": [
      "Investigation of car advertisement market in US\n",
      "In this app we will investigate dependancy of the car price from condition and model\n"
     ]
    }
   ],
   "source": [
    "#creating a header\n",
    "print('Investigation of car advertisement market in US')\n",
    "#creating a project description\n",
    "print('In this app we will investigate dependancy of the car price from condition and model')"
   ]
  },
  {
   "cell_type": "code",
   "execution_count": 5,
   "metadata": {},
   "outputs": [
    {
     "data": {
      "text/html": [
       "<div>\n",
       "<style scoped>\n",
       "    .dataframe tbody tr th:only-of-type {\n",
       "        vertical-align: middle;\n",
       "    }\n",
       "\n",
       "    .dataframe tbody tr th {\n",
       "        vertical-align: top;\n",
       "    }\n",
       "\n",
       "    .dataframe thead th {\n",
       "        text-align: right;\n",
       "    }\n",
       "</style>\n",
       "<table border=\"1\" class=\"dataframe\">\n",
       "  <thead>\n",
       "    <tr style=\"text-align: right;\">\n",
       "      <th></th>\n",
       "      <th>price</th>\n",
       "      <th>model_year</th>\n",
       "      <th>model</th>\n",
       "      <th>condition</th>\n",
       "      <th>cylinders</th>\n",
       "      <th>fuel</th>\n",
       "      <th>odometer</th>\n",
       "      <th>transmission</th>\n",
       "      <th>type</th>\n",
       "      <th>paint_color</th>\n",
       "      <th>is_4wd</th>\n",
       "      <th>date_posted</th>\n",
       "      <th>days_listed</th>\n",
       "    </tr>\n",
       "  </thead>\n",
       "  <tbody>\n",
       "    <tr>\n",
       "      <th>0</th>\n",
       "      <td>9400</td>\n",
       "      <td>2011.0</td>\n",
       "      <td>bmw x5</td>\n",
       "      <td>good</td>\n",
       "      <td>6.0</td>\n",
       "      <td>gas</td>\n",
       "      <td>145000.0</td>\n",
       "      <td>automatic</td>\n",
       "      <td>SUV</td>\n",
       "      <td>NaN</td>\n",
       "      <td>1.0</td>\n",
       "      <td>2018-06-23</td>\n",
       "      <td>19</td>\n",
       "    </tr>\n",
       "    <tr>\n",
       "      <th>1</th>\n",
       "      <td>25500</td>\n",
       "      <td>NaN</td>\n",
       "      <td>ford f-150</td>\n",
       "      <td>good</td>\n",
       "      <td>6.0</td>\n",
       "      <td>gas</td>\n",
       "      <td>88705.0</td>\n",
       "      <td>automatic</td>\n",
       "      <td>pickup</td>\n",
       "      <td>white</td>\n",
       "      <td>1.0</td>\n",
       "      <td>2018-10-19</td>\n",
       "      <td>50</td>\n",
       "    </tr>\n",
       "    <tr>\n",
       "      <th>2</th>\n",
       "      <td>5500</td>\n",
       "      <td>2013.0</td>\n",
       "      <td>hyundai sonata</td>\n",
       "      <td>like new</td>\n",
       "      <td>4.0</td>\n",
       "      <td>gas</td>\n",
       "      <td>110000.0</td>\n",
       "      <td>automatic</td>\n",
       "      <td>sedan</td>\n",
       "      <td>red</td>\n",
       "      <td>NaN</td>\n",
       "      <td>2019-02-07</td>\n",
       "      <td>79</td>\n",
       "    </tr>\n",
       "    <tr>\n",
       "      <th>3</th>\n",
       "      <td>1500</td>\n",
       "      <td>2003.0</td>\n",
       "      <td>ford f-150</td>\n",
       "      <td>fair</td>\n",
       "      <td>8.0</td>\n",
       "      <td>gas</td>\n",
       "      <td>NaN</td>\n",
       "      <td>automatic</td>\n",
       "      <td>pickup</td>\n",
       "      <td>NaN</td>\n",
       "      <td>NaN</td>\n",
       "      <td>2019-03-22</td>\n",
       "      <td>9</td>\n",
       "    </tr>\n",
       "    <tr>\n",
       "      <th>4</th>\n",
       "      <td>14900</td>\n",
       "      <td>2017.0</td>\n",
       "      <td>chrysler 200</td>\n",
       "      <td>excellent</td>\n",
       "      <td>4.0</td>\n",
       "      <td>gas</td>\n",
       "      <td>80903.0</td>\n",
       "      <td>automatic</td>\n",
       "      <td>sedan</td>\n",
       "      <td>black</td>\n",
       "      <td>NaN</td>\n",
       "      <td>2019-04-02</td>\n",
       "      <td>28</td>\n",
       "    </tr>\n",
       "  </tbody>\n",
       "</table>\n",
       "</div>"
      ],
      "text/plain": [
       "   price  model_year           model  condition  cylinders fuel  odometer  \\\n",
       "0   9400      2011.0          bmw x5       good        6.0  gas  145000.0   \n",
       "1  25500         NaN      ford f-150       good        6.0  gas   88705.0   \n",
       "2   5500      2013.0  hyundai sonata   like new        4.0  gas  110000.0   \n",
       "3   1500      2003.0      ford f-150       fair        8.0  gas       NaN   \n",
       "4  14900      2017.0    chrysler 200  excellent        4.0  gas   80903.0   \n",
       "\n",
       "  transmission    type paint_color  is_4wd date_posted  days_listed  \n",
       "0    automatic     SUV         NaN     1.0  2018-06-23           19  \n",
       "1    automatic  pickup       white     1.0  2018-10-19           50  \n",
       "2    automatic   sedan         red     NaN  2019-02-07           79  \n",
       "3    automatic  pickup         NaN     NaN  2019-03-22            9  \n",
       "4    automatic   sedan       black     NaN  2019-04-02           28  "
      ]
     },
     "execution_count": 5,
     "metadata": {},
     "output_type": "execute_result"
    }
   ],
   "source": [
    "df=pd.read_csv('vehicles_us.csv')\n",
    "df.head()"
   ]
  },
  {
   "cell_type": "code",
   "execution_count": 6,
   "metadata": {},
   "outputs": [
    {
     "name": "stdout",
     "output_type": "stream",
     "text": [
      "<class 'pandas.core.frame.DataFrame'>\n",
      "RangeIndex: 51525 entries, 0 to 51524\n",
      "Data columns (total 13 columns):\n",
      " #   Column        Non-Null Count  Dtype  \n",
      "---  ------        --------------  -----  \n",
      " 0   price         51525 non-null  int64  \n",
      " 1   model_year    47906 non-null  float64\n",
      " 2   model         51525 non-null  object \n",
      " 3   condition     51525 non-null  object \n",
      " 4   cylinders     46265 non-null  float64\n",
      " 5   fuel          51525 non-null  object \n",
      " 6   odometer      43633 non-null  float64\n",
      " 7   transmission  51525 non-null  object \n",
      " 8   type          51525 non-null  object \n",
      " 9   paint_color   42258 non-null  object \n",
      " 10  is_4wd        25572 non-null  float64\n",
      " 11  date_posted   51525 non-null  object \n",
      " 12  days_listed   51525 non-null  int64  \n",
      "dtypes: float64(4), int64(2), object(7)\n",
      "memory usage: 5.1+ MB\n"
     ]
    }
   ],
   "source": [
    "df.info('vehicles_us.csv')"
   ]
  },
  {
   "cell_type": "code",
   "execution_count": 7,
   "metadata": {},
   "outputs": [],
   "source": [
    "import plotly.express as px"
   ]
  },
  {
   "cell_type": "code",
   "execution_count": 8,
   "metadata": {},
   "outputs": [
    {
     "data": {
      "text/plain": [
       "count     51525.000000\n",
       "mean      12132.464920\n",
       "std       10040.803015\n",
       "min           1.000000\n",
       "25%        5000.000000\n",
       "50%        9000.000000\n",
       "75%       16839.000000\n",
       "max      375000.000000\n",
       "Name: price, dtype: float64"
      ]
     },
     "execution_count": 8,
     "metadata": {},
     "output_type": "execute_result"
    }
   ],
   "source": [
    "df['price'].describe()\n",
    "     "
   ]
  },
  {
   "cell_type": "code",
   "execution_count": 9,
   "metadata": {},
   "outputs": [
    {
     "data": {
      "text/plain": [
       "count         51525\n",
       "unique            6\n",
       "top       excellent\n",
       "freq          24773\n",
       "Name: condition, dtype: object"
      ]
     },
     "execution_count": 9,
     "metadata": {},
     "output_type": "execute_result"
    }
   ],
   "source": [
    "df['condition'].describe()"
   ]
  },
  {
   "cell_type": "code",
   "execution_count": 10,
   "metadata": {},
   "outputs": [
    {
     "data": {
      "text/plain": [
       "count    25572.0\n",
       "mean         1.0\n",
       "std          0.0\n",
       "min          1.0\n",
       "25%          1.0\n",
       "50%          1.0\n",
       "75%          1.0\n",
       "max          1.0\n",
       "Name: is_4wd, dtype: float64"
      ]
     },
     "execution_count": 10,
     "metadata": {},
     "output_type": "execute_result"
    }
   ],
   "source": [
    "df['is_4wd'].describe()"
   ]
  },
  {
   "cell_type": "code",
   "execution_count": 11,
   "metadata": {},
   "outputs": [
    {
     "data": {
      "text/plain": [
       "price               0\n",
       "model_year       3619\n",
       "model               0\n",
       "condition           0\n",
       "cylinders        5260\n",
       "fuel                0\n",
       "odometer         7892\n",
       "transmission        0\n",
       "type                0\n",
       "paint_color      9267\n",
       "is_4wd          25953\n",
       "date_posted         0\n",
       "days_listed         0\n",
       "dtype: int64"
      ]
     },
     "execution_count": 11,
     "metadata": {},
     "output_type": "execute_result"
    }
   ],
   "source": [
    "#Cheking missing values in the data\n",
    "df.isna().sum()\n"
   ]
  },
  {
   "cell_type": "code",
   "execution_count": 19,
   "metadata": {},
   "outputs": [],
   "source": [
    "# looping over column names and replacing missing values in colums paint_colour and is_4wd with 'unknown'\n",
    "columns_to_replace = ['paint_color','is_4wd']\n",
    "for column in columns_to_replace:\n",
    "   df[column] = df[column].fillna('unknown')"
   ]
  },
  {
   "cell_type": "code",
   "execution_count": 47,
   "metadata": {},
   "outputs": [
    {
     "name": "stdout",
     "output_type": "stream",
     "text": [
      "0        2011.0\n",
      "1        2011.0\n",
      "2        2013.0\n",
      "3        2003.0\n",
      "4        2017.0\n",
      "          ...  \n",
      "51520    2013.0\n",
      "51521    2002.0\n",
      "51522    2009.0\n",
      "51523    2013.0\n",
      "51524    2014.0\n",
      "Name: model_year, Length: 51525, dtype: float64\n"
     ]
    }
   ],
   "source": [
    "#Filling in the NaN values in model_year with median using group by model and model_year\n",
    "df['model_year'] = pd.to_numeric(df['model_year'], errors='coerce')\n",
    "df['model_year'] = df['model_year'].astype(float).fillna(df.groupby(['model'])['model_year'].transform('median'))\n",
    "print(df['model_year'])"
   ]
  },
  {
   "cell_type": "code",
   "execution_count": 64,
   "metadata": {},
   "outputs": [
    {
     "name": "stdout",
     "output_type": "stream",
     "text": [
      "0        6.0\n",
      "1        6.0\n",
      "2        4.0\n",
      "3        8.0\n",
      "4        4.0\n",
      "        ... \n",
      "51520    6.0\n",
      "51521    4.0\n",
      "51522    4.0\n",
      "51523    4.0\n",
      "51524    4.0\n",
      "Name: cylinders, Length: 51525, dtype: float64\n"
     ]
    }
   ],
   "source": [
    "#Filling in the NaN values in cylinders with mode using group by model and model_year\n",
    "df['cylinders'] = pd.to_numeric(df['cylinders'], errors='coerce')\n",
    "df['cylinders'] = df['cylinders'].fillna(df.groupby(['model','model_year'])['cylinders'].transform(pd.Series.mode))\n",
    "print(df['cylinders'])"
   ]
  },
  {
   "cell_type": "code",
   "execution_count": 59,
   "metadata": {},
   "outputs": [
    {
     "name": "stdout",
     "output_type": "stream",
     "text": [
      "0        145000.0\n",
      "1         88705.0\n",
      "2        110000.0\n",
      "3        233000.0\n",
      "4         80903.0\n",
      "           ...   \n",
      "51520     88136.0\n",
      "51521    181500.0\n",
      "51522    128000.0\n",
      "51523    139573.0\n",
      "51524    100355.0\n",
      "Name: odometer, Length: 51525, dtype: float64\n"
     ]
    }
   ],
   "source": [
    "#Filling in the NaN values in odometer with mode using group by model and model_year\n",
    "df['odometer'] = pd.to_numeric(df['odometer'], errors='coerce')\n",
    "df['odometer'] = df['odometer'].fillna(df.groupby(['model','model_year','type','condition'])['odometer'].transform('median'))\n",
    "print(df['odometer'])"
   ]
  },
  {
   "cell_type": "code",
   "execution_count": 14,
   "metadata": {},
   "outputs": [
    {
     "name": "stdout",
     "output_type": "stream",
     "text": [
      "<class 'pandas.core.frame.DataFrame'>\n",
      "RangeIndex: 51525 entries, 0 to 51524\n",
      "Data columns (total 13 columns):\n",
      " #   Column        Non-Null Count  Dtype \n",
      "---  ------        --------------  ----- \n",
      " 0   price         51525 non-null  int64 \n",
      " 1   model_year    51525 non-null  object\n",
      " 2   model         51525 non-null  object\n",
      " 3   condition     51525 non-null  object\n",
      " 4   cylinders     51525 non-null  object\n",
      " 5   fuel          51525 non-null  object\n",
      " 6   odometer      51525 non-null  object\n",
      " 7   transmission  51525 non-null  object\n",
      " 8   type          51525 non-null  object\n",
      " 9   paint_color   51525 non-null  object\n",
      " 10  is_4wd        51525 non-null  object\n",
      " 11  date_posted   51525 non-null  object\n",
      " 12  days_listed   51525 non-null  int64 \n",
      "dtypes: int64(2), object(11)\n",
      "memory usage: 5.1+ MB\n"
     ]
    }
   ],
   "source": [
    "df.info('vehicles_us.csv')"
   ]
  },
  {
   "cell_type": "code",
   "execution_count": 15,
   "metadata": {},
   "outputs": [
    {
     "data": {
      "text/plain": [
       "0"
      ]
     },
     "execution_count": 15,
     "metadata": {},
     "output_type": "execute_result"
    }
   ],
   "source": [
    "#checking for duplicates\n",
    "df.duplicated().sum()"
   ]
  },
  {
   "cell_type": "code",
   "execution_count": 16,
   "metadata": {},
   "outputs": [],
   "source": [
    "#droping duplicates\n",
    "df=df.drop_duplicates()"
   ]
  },
  {
   "cell_type": "code",
   "execution_count": 17,
   "metadata": {},
   "outputs": [
    {
     "data": {
      "text/plain": [
       "0"
      ]
     },
     "execution_count": 17,
     "metadata": {},
     "output_type": "execute_result"
    }
   ],
   "source": [
    "#checking for duplicates again\n",
    "df.duplicated().sum()"
   ]
  },
  {
   "cell_type": "code",
   "execution_count": 67,
   "metadata": {},
   "outputs": [],
   "source": [
    "#creating slider for the price range and checkbox for the cars that have less then 10 years since production \n",
    "st.caption('Choose your parameters here')\n",
    "price_range = st.slider(\n",
    "     \"What is your price range?\",\n",
    "     value=(1, 375000))\n",
    "\n",
    "actual_range=list(range(price_range[0],price_range[1]+1))\n",
    "\n",
    "not_old_cars = st.checkbox('Only cars less then 10 years old')\n",
    "\n",
    "if not_old_cars:\n",
    "    filtered_data=df[df.price.isin(actual_range)]\n",
    "    df.model_year = df.model_year.astype(str)\n",
    "    filtered_data=filtered_data[df.model_year>='2010']\n",
    "else:\n",
    "    filtered_data=df[df.price.isin(actual_range)]"
   ]
  },
  {
   "cell_type": "code",
   "execution_count": 68,
   "metadata": {},
   "outputs": [
    {
     "data": {
      "text/plain": [
       "DeltaGenerator()"
      ]
     },
     "execution_count": 68,
     "metadata": {},
     "output_type": "execute_result"
    }
   ],
   "source": [
    "#scatterplot  with a split by price and condition\n",
    "\n",
    "fig = px.scatter(filtered_data, title=\"Split of cars by price and condition\", x=\"price\", y=\"condition\")           \n",
    "st.plotly_chart(fig)\n"
   ]
  },
  {
   "cell_type": "code",
   "execution_count": 69,
   "metadata": {},
   "outputs": [],
   "source": [
    "#Conclusion from the scatterplot with a split by price and condition\n",
    "st.write('Conclusion about the depandancy of price from condition:')\n",
    "st.write('1) Absolute majority of the cars with new, like new, excellent and good condition have pretty much the same prices')\n",
    "st.write('2) The prices for new, like new, excellent and good condition cars are mostly less then 60 000 $')\n",
    "st.write('3) The prices for salvage and fair condition cars are mostly less then 20 000 $')\n"
   ]
  },
  {
   "cell_type": "markdown",
   "metadata": {},
   "source": [
    "Conclusion from the scatterplot with a split by price and condition\n",
    "\n",
    "1) Absolute majority of the cars with new, like new, excellent and good condition have pretty much the same prices\n",
    "2) The prices for new, like new, excellent and good condition cars are mostly less then 60 000 $\n",
    "3) The prices for salvage and fair condition cars are mostly less then 20 000 $\n"
   ]
  },
  {
   "cell_type": "code",
   "execution_count": 70,
   "metadata": {},
   "outputs": [
    {
     "data": {
      "text/plain": [
       "DeltaGenerator()"
      ]
     },
     "execution_count": 70,
     "metadata": {},
     "output_type": "execute_result"
    }
   ],
   "source": [
    "#Histogram showing the average price by model\n",
    "fig2 = px.histogram(filtered_data, title=\"Average price by model\", x=\"model\", y=\"price\",histfunc=\"avg\")\n",
    "st.plotly_chart(fig2)"
   ]
  },
  {
   "cell_type": "code",
   "execution_count": 71,
   "metadata": {},
   "outputs": [],
   "source": [
    "st.write('Conclusion about the average prices by the model:')\n",
    "st.write('1) The average prices of most of the models are below 10 000 $')\n",
    "st.write('2) The most expensive model is Mercedes-benz Sprinter 2500 with the average price of 34900$')"
   ]
  },
  {
   "cell_type": "markdown",
   "metadata": {},
   "source": [
    "Conclusion about the average prices by the model:\n",
    "1) The average prices of most of the models are below 10 000 $\n",
    "2) The most expensive model is Mercedes-benz Sprinter 2500 with the average price of 34900$"
   ]
  },
  {
   "cell_type": "code",
   "execution_count": 72,
   "metadata": {},
   "outputs": [],
   "source": [
    "st.header('Overall Conclusion')\n",
    "st.write('We found out that:')\n",
    "st.write('1) Absolute majority of the cars with new, like new, excellent and good condition have pretty much the same prices')\n",
    "st.write('2) The prices for new, like new, excellent and good condition cars are mostly less then 60 000 $')\n",
    "st.write('3) The prices for salvage and fair condition cars are mostly less then 20 000 $')\n",
    "st.write('4) The average prices of most of the models are below 10 000 $')\n",
    "st.write('5) The most expensive model is Mercedes-benz Sprinter 2500 with the average price of 34900$')"
   ]
  },
  {
   "cell_type": "markdown",
   "metadata": {},
   "source": [
    "Overall Conclusion:\n",
    "\n",
    "1) Absolute majority of the cars with new, like new, excellent and good condition have pretty much the same prices\n",
    "2) The prices for new, like new, excellent and good condition cars are mostly less then 60 000 $\n",
    "3) The prices for salvage and fair condition cars are mostly less then 20 000 $\n",
    "4) The average prices of most of the models are below 10 000 $\n",
    "5) The most expensive model is Mercedes-benz Sprinter 2500 with the average price of 34900$"
   ]
  }
 ],
 "metadata": {
  "kernelspec": {
   "display_name": "base",
   "language": "python",
   "name": "python3"
  },
  "language_info": {
   "codemirror_mode": {
    "name": "ipython",
    "version": 3
   },
   "file_extension": ".py",
   "mimetype": "text/x-python",
   "name": "python",
   "nbconvert_exporter": "python",
   "pygments_lexer": "ipython3",
   "version": "3.11.5"
  }
 },
 "nbformat": 4,
 "nbformat_minor": 2
}
